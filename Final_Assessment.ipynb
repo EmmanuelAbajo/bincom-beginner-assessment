{
 "cells": [
  {
   "cell_type": "markdown",
   "metadata": {},
   "source": [
    "## Question A and B"
   ]
  },
  {
   "cell_type": "code",
   "execution_count": 1,
   "metadata": {
    "scrolled": false
   },
   "outputs": [],
   "source": [
    "import os,re\n",
    "from collections import Counter\n",
    "\n",
    "with open(os.path.join(os.getcwd(),'python_class_test.html'),'r') as doc:\n",
    "    page = doc.read()\n",
    "\n",
    "pattern = r'<td>(.*)</td>'\n",
    "matchObj = re.findall(pattern,page,re.M|re.I)\n",
    "\n",
    "list_of_colours = [item for item in matchObj\\\n",
    "                    if item not in ('MONDAY','TUESDAY','WEDNESDAY','THURSDAY','FRIDAY')] # Removes the days from the list\n",
    "color_container = []\n",
    "for item in list_of_colours:\n",
    "    splited_item = list(filter(None,item.split(\",\"))) #splits each entry and removes any empty string from the list\n",
    "    for value in splited_item:\n",
    "        color_container.append(value.strip())\n",
    "\n",
    "color_dict = dict(Counter(color_container)) # Creates a dictionary containing each value and its frequency"
   ]
  },
  {
   "cell_type": "markdown",
   "metadata": {},
   "source": [
    "## Question 1"
   ]
  },
  {
   "cell_type": "code",
   "execution_count": 15,
   "metadata": {
    "scrolled": false
   },
   "outputs": [
    {
     "name": "stdout",
     "output_type": "stream",
     "text": [
      "mean colour: YELLOW\n"
     ]
    }
   ],
   "source": [
    "total = int(sum(color_dict.values()))\n",
    "no_of_items = len(color_dict.keys())\n",
    "mean = int(total/no_of_items)\n",
    "\n",
    "print(f'mean colour: {color_container[mean]}')"
   ]
  },
  {
   "cell_type": "markdown",
   "metadata": {},
   "source": [
    "## Question 2"
   ]
  },
  {
   "cell_type": "code",
   "execution_count": 222,
   "metadata": {},
   "outputs": [
    {
     "name": "stdout",
     "output_type": "stream",
     "text": [
      "Most worn color: BLUE\n"
     ]
    }
   ],
   "source": [
    "for color,freq in color_dict.items():\n",
    "    if freq == max(color_dict.values()):\n",
    "        print(f\"Most worn color: {color}\")"
   ]
  },
  {
   "cell_type": "markdown",
   "metadata": {},
   "source": [
    "## Question 3"
   ]
  },
  {
   "cell_type": "code",
   "execution_count": 19,
   "metadata": {},
   "outputs": [
    {
     "name": "stdout",
     "output_type": "stream",
     "text": [
      "median colour: RED\n"
     ]
    }
   ],
   "source": [
    "mid = int(sum(color_dict.values())/2)\n",
    "\n",
    "print(f'median colour: {color_container[mid]}')"
   ]
  },
  {
   "cell_type": "markdown",
   "metadata": {},
   "source": [
    "## Question 4"
   ]
  },
  {
   "cell_type": "code",
   "execution_count": 2,
   "metadata": {},
   "outputs": [
    {
     "name": "stdout",
     "output_type": "stream",
     "text": [
      "Variance:\n",
      "      Frequency    63.243056\n",
      "dtype: float64\n"
     ]
    }
   ],
   "source": [
    "import pandas as pd\n",
    "import numpy as np\n",
    "\n",
    "df = pd.DataFrame(color_dict.items(),columns=['Colour','Frequency'])\n",
    "variance = np.var(df)\n",
    "\n",
    "print(f\"\"\"Variance:\n",
    "      {variance}\"\"\")"
   ]
  },
  {
   "cell_type": "code",
   "execution_count": 3,
   "metadata": {},
   "outputs": [
    {
     "data": {
      "text/html": [
       "<div>\n",
       "<style scoped>\n",
       "    .dataframe tbody tr th:only-of-type {\n",
       "        vertical-align: middle;\n",
       "    }\n",
       "\n",
       "    .dataframe tbody tr th {\n",
       "        vertical-align: top;\n",
       "    }\n",
       "\n",
       "    .dataframe thead th {\n",
       "        text-align: right;\n",
       "    }\n",
       "</style>\n",
       "<table border=\"1\" class=\"dataframe\">\n",
       "  <thead>\n",
       "    <tr style=\"text-align: right;\">\n",
       "      <th></th>\n",
       "      <th>Frequency</th>\n",
       "    </tr>\n",
       "  </thead>\n",
       "  <tbody>\n",
       "    <tr>\n",
       "      <th>count</th>\n",
       "      <td>12.000000</td>\n",
       "    </tr>\n",
       "    <tr>\n",
       "      <th>mean</th>\n",
       "      <td>7.916667</td>\n",
       "    </tr>\n",
       "    <tr>\n",
       "      <th>std</th>\n",
       "      <td>8.306168</td>\n",
       "    </tr>\n",
       "    <tr>\n",
       "      <th>min</th>\n",
       "      <td>1.000000</td>\n",
       "    </tr>\n",
       "    <tr>\n",
       "      <th>25%</th>\n",
       "      <td>1.750000</td>\n",
       "    </tr>\n",
       "    <tr>\n",
       "      <th>50%</th>\n",
       "      <td>5.500000</td>\n",
       "    </tr>\n",
       "    <tr>\n",
       "      <th>75%</th>\n",
       "      <td>9.250000</td>\n",
       "    </tr>\n",
       "    <tr>\n",
       "      <th>max</th>\n",
       "      <td>30.000000</td>\n",
       "    </tr>\n",
       "  </tbody>\n",
       "</table>\n",
       "</div>"
      ],
      "text/plain": [
       "       Frequency\n",
       "count  12.000000\n",
       "mean    7.916667\n",
       "std     8.306168\n",
       "min     1.000000\n",
       "25%     1.750000\n",
       "50%     5.500000\n",
       "75%     9.250000\n",
       "max    30.000000"
      ]
     },
     "execution_count": 3,
     "metadata": {},
     "output_type": "execute_result"
    }
   ],
   "source": [
    "df.describe()"
   ]
  },
  {
   "cell_type": "markdown",
   "metadata": {},
   "source": [
    "## Question 5"
   ]
  },
  {
   "cell_type": "code",
   "execution_count": 212,
   "metadata": {},
   "outputs": [
    {
     "name": "stdout",
     "output_type": "stream",
     "text": [
      "Probability of obtaining red is 0.09473684210526316\n"
     ]
    }
   ],
   "source": [
    "red_samples = color_dict['RED']\n",
    "total = sum(color_dict.values())\n",
    "prob = red_samples/total\n",
    "\n",
    "print(f'Probability of obtaining red is {prob}')"
   ]
  },
  {
   "cell_type": "markdown",
   "metadata": {},
   "source": [
    "## Question 6"
   ]
  },
  {
   "cell_type": "code",
   "execution_count": 225,
   "metadata": {},
   "outputs": [
    {
     "name": "stdout",
     "output_type": "stream",
     "text": [
      "Table created successfully\n",
      "Entries created successfully\n"
     ]
    }
   ],
   "source": [
    "import psycopg2 as pg\n",
    "import os\n",
    "\n",
    "with open('login.txt','r') as login:\n",
    "    user = login.readline()\n",
    "    password = login.readline()\n",
    "    port = login.readline()\n",
    "    dbname = login.readline()\n",
    "    host = login.readline()\n",
    "\n",
    "def connect():\n",
    "    db = pg.connect(f\"dbname={dbname} user={user} password={password} host={host} port={port}\")\n",
    "    return db\n",
    "\n",
    "def create_table():\n",
    "    db = connect()\n",
    "    cur = db.cursor()\n",
    "    cur.execute('DROP TABLE IF EXISTS Colours;')\n",
    "    cur.execute('''CREATE TABLE Colours\n",
    "            (Colour CHAR(20) NOT NULL,\n",
    "            Frequency INTEGER NOT NULL);''')\n",
    "    db.commit()\n",
    "    db.close()\n",
    "    print('Table created successfully')\n",
    "\n",
    "def create(container):\n",
    "    db = connect()\n",
    "    cur = db.cursor()\n",
    "    try:\n",
    "        for colour,freq in container.items():\n",
    "            cur.execute(\"INSERT INTO Colours(Colour,Frequency) VALUES ('%s','%d');\"%(colour,freq))\n",
    "        db.commit()\n",
    "        print('Entries created successfully')\n",
    "    except Exception as err:\n",
    "        print(err)\n",
    "        db.rollback()\n",
    "    db.close()\n",
    "\n",
    "create_table()\n",
    "create(container=color_dict)\n"
   ]
  },
  {
   "cell_type": "markdown",
   "metadata": {},
   "source": [
    "## Question 7"
   ]
  },
  {
   "cell_type": "code",
   "execution_count": null,
   "metadata": {},
   "outputs": [],
   "source": [
    "def sort_list(arr,order=0):\n",
    "    \"\"\"\n",
    "    This function sorts a list in either ascending or descending order.\n",
    "        Args:\n",
    "            arr: List of integers to be sorter\n",
    "            order:from sorter import sort_list\n",
    " Specifies whether to sort in ascending or descending order.\n",
    "                   Ascending - 0\n",
    "                   descending - 1\n",
    "        Returns:\n",
    "            Sorted list in the specified order\n",
    "    \"\"\"\n",
    "    for i in range(len(arr)-1,0,-1):\n",
    "        for j in range(i):\n",
    "            if arr[j] > arr[j+1]: # perform a number swap\n",
    "                temp = arr[j]\n",
    "                arr[j] = arr[j+1]\n",
    "                arr[j+1] = temp\n",
    "    # Checks the order\n",
    "    if order == 0:\n",
    "        return arr\n",
    "    return reverse(arr)\n",
    "\n",
    "def reverse(arr):\n",
    "    \"\"\"This function reverses a list\"\"\"\n",
    "    return arr[::-1]\n",
    "\n",
    "def bin_search(arr,x):\n",
    "    \"\"\"\n",
    "    This function implements the binary search algorithm. It returns -1 if the\n",
    "    element is not present in the list. It firsts sorts the list in ascending\n",
    "    order before implementing the search algorithm.\n",
    "    Args:\n",
    "        arr: List of elements which is to be searched\n",
    "        x: Element to be searched for\n",
    "    Returns:\n",
    "        Position of element searched for or -1 if not found.\n",
    "    \"\"\"\n",
    "    arr = sort_list(arr)\n",
    "    l = 0\n",
    "    r = len(arr)-1\n",
    "\n",
    "    while l <= r:\n",
    "        mid = int(l + (r - l)/2)\n",
    "        # Check if x is present at mid\n",
    "        if arr[mid] == x:\n",
    "            return mid\n",
    "        # If x is greater, ignore left half\n",
    "        elif arr[mid] < x:\n",
    "            l = mid + 1\n",
    "        # If x is smaller, ignore right half\n",
    "        else:\n",
    "            r = mid - 1\n",
    "    # If we reach here, then the element was not present\n",
    "    return -1\n"
   ]
  },
  {
   "cell_type": "markdown",
   "metadata": {},
   "source": [
    "## Question 8"
   ]
  },
  {
   "cell_type": "code",
   "execution_count": 227,
   "metadata": {},
   "outputs": [
    {
     "name": "stdout",
     "output_type": "stream",
     "text": [
      "1110 = 14 in base 10\n"
     ]
    }
   ],
   "source": [
    "from random import *\n",
    "\n",
    "def from_base2_to_base10(n):\n",
    "    \"\"\"This program converts random 4 digit binary numbers to base 10\"\"\"\n",
    "    value = ''.join([str(randint(0,1)) for i in range(n)])\n",
    "    print(f\"{value} = {int(value,2)} in base 10\")\n",
    "    \n",
    "from_base2_to_base10(4)\n"
   ]
  },
  {
   "cell_type": "markdown",
   "metadata": {},
   "source": [
    "## Question 9"
   ]
  },
  {
   "cell_type": "code",
   "execution_count": 226,
   "metadata": {},
   "outputs": [
    {
     "name": "stdout",
     "output_type": "stream",
     "text": [
      "The sum of the first 50 fibonnaci numbers is 32951280098\n"
     ]
    }
   ],
   "source": [
    "def fibonnaci_sum(n):\n",
    "    \"\"\"\n",
    "        This program returns the sum of fibonnaci series for a specified number of values\n",
    "        Args: n is the number of values specified by the user\n",
    "    \"\"\"\n",
    "    fib_list = []\n",
    "    current,previous = 0,1\n",
    "    for i in range(n):\n",
    "        current,previous = current+previous,current\n",
    "        fib_list.append(current)\n",
    "    return sum(fib_list)\n",
    "\n",
    "print(f'The sum of the first 50 fibonnaci numbers is {fibonnaci_sum(50)}')\n"
   ]
  }
 ],
 "metadata": {
  "kernelspec": {
   "display_name": "Python 3",
   "language": "python",
   "name": "python3"
  },
  "language_info": {
   "codemirror_mode": {
    "name": "ipython",
    "version": 3
   },
   "file_extension": ".py",
   "mimetype": "text/x-python",
   "name": "python",
   "nbconvert_exporter": "python",
   "pygments_lexer": "ipython3",
   "version": "3.6.8"
  }
 },
 "nbformat": 4,
 "nbformat_minor": 2
}
